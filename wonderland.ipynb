{
 "cells": [
  {
   "cell_type": "code",
   "execution_count": 3,
   "id": "f9d7d340",
   "metadata": {},
   "outputs": [],
   "source": [
    "import pandas as pd\n",
    "repower = './EPA RE-Powering/epa-repowering-sites.csv'"
   ]
  },
  {
   "cell_type": "code",
   "execution_count": 5,
   "id": "9b6bb56b",
   "metadata": {},
   "outputs": [
    {
     "name": "stderr",
     "output_type": "stream",
     "text": [
      "C:\\Users\\iveny\\AppData\\Local\\Temp\\ipykernel_16264\\1198385428.py:1: DtypeWarning: Columns (4,10,16,17,18,22,23,24,29,30,40) have mixed types. Specify dtype option on import or set low_memory=False.\n",
      "  df = pd.read_csv(repower, header=0)\n"
     ]
    }
   ],
   "source": [
    "df = pd.read_csv(repower, header=0)"
   ]
  },
  {
   "cell_type": "code",
   "execution_count": 7,
   "id": "f3bf3ecb",
   "metadata": {},
   "outputs": [],
   "source": [
    "bf = df.loc[df['Program'] == 'BROWNFIELDS']"
   ]
  },
  {
   "cell_type": "code",
   "execution_count": 9,
   "id": "eacb41b8",
   "metadata": {},
   "outputs": [
    {
     "name": "stdout",
     "output_type": "stream",
     "text": [
      "1483804.0\n"
     ]
    }
   ],
   "source": [
    "bf_area = bf['Acreage (Acres)'].sum()\n",
    "print(bf_area)"
   ]
  },
  {
   "cell_type": "code",
   "execution_count": null,
   "id": "d2d05bab",
   "metadata": {},
   "outputs": [],
   "source": []
  },
  {
   "cell_type": "code",
   "execution_count": null,
   "id": "bb33e028",
   "metadata": {},
   "outputs": [],
   "source": []
  },
  {
   "cell_type": "code",
   "execution_count": null,
   "id": "e6d7ddf6",
   "metadata": {},
   "outputs": [],
   "source": []
  },
  {
   "cell_type": "code",
   "execution_count": null,
   "id": "061fc540",
   "metadata": {},
   "outputs": [],
   "source": []
  },
  {
   "cell_type": "code",
   "execution_count": null,
   "id": "99b01ee6",
   "metadata": {},
   "outputs": [],
   "source": []
  }
 ],
 "metadata": {
  "kernelspec": {
   "display_name": "Python 3 (ipykernel)",
   "language": "python",
   "name": "python3"
  },
  "language_info": {
   "codemirror_mode": {
    "name": "ipython",
    "version": 3
   },
   "file_extension": ".py",
   "mimetype": "text/x-python",
   "name": "python",
   "nbconvert_exporter": "python",
   "pygments_lexer": "ipython3",
   "version": "3.9.12"
  }
 },
 "nbformat": 4,
 "nbformat_minor": 5
}
