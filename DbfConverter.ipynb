{
 "cells": [
  {
   "cell_type": "code",
   "execution_count": 24,
   "id": "701fb6a7",
   "metadata": {},
   "outputs": [],
   "source": [
    "from dbfread import DBF\n",
    "from pandas import DataFrame\n",
    "import csv\n",
    "import sys\n",
    "inputFile = \"./EPA RE-Powering/epa-re-powering-brownfields-sites.dbf\"\n",
    "outputFile = 'EPA_EJSCREEN_ID.csv'"
   ]
  },
  {
   "cell_type": "code",
   "execution_count": 25,
   "id": "8ce5e4cc",
   "metadata": {},
   "outputs": [],
   "source": [
    "table = DBF(inputFile, char_decode_errors ='ignore')\n",
    "with open(outputFile, 'w', newline='') as csvfile:\n",
    "    writer = csv.writer(csvfile)\n",
    "    writer.writerow(table.field_names)\n",
    "    for record in table:\n",
    "        writer.writerow(list(record.values()))"
   ]
  },
  {
   "cell_type": "code",
   "execution_count": null,
   "id": "2d0f830a",
   "metadata": {},
   "outputs": [],
   "source": []
  }
 ],
 "metadata": {
  "kernelspec": {
   "display_name": "Python 3 (ipykernel)",
   "language": "python",
   "name": "python3"
  },
  "language_info": {
   "codemirror_mode": {
    "name": "ipython",
    "version": 3
   },
   "file_extension": ".py",
   "mimetype": "text/x-python",
   "name": "python",
   "nbconvert_exporter": "python",
   "pygments_lexer": "ipython3",
   "version": "3.9.12"
  }
 },
 "nbformat": 4,
 "nbformat_minor": 5
}
