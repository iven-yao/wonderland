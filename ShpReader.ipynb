{
 "cells": [
  {
   "cell_type": "code",
   "execution_count": 6,
   "id": "c68afc90",
   "metadata": {},
   "outputs": [],
   "source": [
    "import geopandas as gpd\n",
    "inputFile = './EC-LIC-VC/LIC_release.shp'"
   ]
  },
  {
   "cell_type": "code",
   "execution_count": 7,
   "id": "275b91db",
   "metadata": {},
   "outputs": [
    {
     "name": "stdout",
     "output_type": "stream",
     "text": [
      "        Site                                           geometry\n",
      "0          1  POLYGON Z ((-86.47606 32.48915 0.00000, -86.47...\n",
      "1         13  POLYGON Z ((-87.61520 31.01905 0.00000, -87.61...\n",
      "2         17  POLYGON Z ((-87.76828 30.88135 0.00000, -87.76...\n",
      "3         26  POLYGON Z ((-87.69842 30.60371 0.00000, -87.69...\n",
      "4         27  POLYGON Z ((-87.66605 30.53104 0.00000, -87.66...\n",
      "...      ...                                                ...\n",
      "30551  72719  POLYGON Z ((-104.75005 42.61017 0.00000, -104....\n",
      "30552  72720  POLYGON Z ((-105.03659 42.26386 0.00000, -105....\n",
      "30553  72724  POLYGON Z ((-106.97981 44.82217 0.00000, -106....\n",
      "30554  72747  POLYGON Z ((-111.00968 41.52528 0.00000, -111....\n",
      "30555  72752  POLYGON Z ((-104.22419 43.88889 0.00000, -104....\n",
      "\n",
      "[30556 rows x 2 columns]\n"
     ]
    }
   ],
   "source": [
    "\n",
    "\n",
    "shapefile = gpd.read_file(inputFile)\n",
    "print(shapefile)"
   ]
  }
 ],
 "metadata": {
  "kernelspec": {
   "display_name": "Python 3 (ipykernel)",
   "language": "python",
   "name": "python3"
  },
  "language_info": {
   "codemirror_mode": {
    "name": "ipython",
    "version": 3
   },
   "file_extension": ".py",
   "mimetype": "text/x-python",
   "name": "python",
   "nbconvert_exporter": "python",
   "pygments_lexer": "ipython3",
   "version": "3.9.12"
  }
 },
 "nbformat": 4,
 "nbformat_minor": 5
}
